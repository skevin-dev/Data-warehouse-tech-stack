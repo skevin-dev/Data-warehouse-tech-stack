{
 "cells": [
  {
   "cell_type": "code",
   "execution_count": 8,
   "id": "7321e40e",
   "metadata": {},
   "outputs": [],
   "source": [
    "import warnings \n",
    "warnings.filterwarnings(\"ignore\")\n",
    "import pandas as pd \n",
    "import seaborn as sns\n",
    "import matplotlib.pyplot as plt "
   ]
  },
  {
   "cell_type": "code",
   "execution_count": 2,
   "id": "d1aa2ec6",
   "metadata": {},
   "outputs": [],
   "source": [
    "data =pd.read_csv(\"../data/20181024_d1_0830_0900.csv\",sep=\"[,;:]\",index_col=False)"
   ]
  },
  {
   "cell_type": "code",
   "execution_count": 3,
   "id": "0480cd0b",
   "metadata": {},
   "outputs": [
    {
     "data": {
      "text/html": [
       "<div>\n",
       "<style scoped>\n",
       "    .dataframe tbody tr th:only-of-type {\n",
       "        vertical-align: middle;\n",
       "    }\n",
       "\n",
       "    .dataframe tbody tr th {\n",
       "        vertical-align: top;\n",
       "    }\n",
       "\n",
       "    .dataframe thead th {\n",
       "        text-align: right;\n",
       "    }\n",
       "</style>\n",
       "<table border=\"1\" class=\"dataframe\">\n",
       "  <thead>\n",
       "    <tr style=\"text-align: right;\">\n",
       "      <th></th>\n",
       "      <th>track_id</th>\n",
       "      <th>type</th>\n",
       "      <th>traveled_d</th>\n",
       "      <th>avg_speed</th>\n",
       "      <th>lat</th>\n",
       "      <th>lon</th>\n",
       "      <th>speed</th>\n",
       "      <th>lon_acc</th>\n",
       "      <th>lat_acc</th>\n",
       "      <th>time</th>\n",
       "    </tr>\n",
       "  </thead>\n",
       "  <tbody>\n",
       "    <tr>\n",
       "      <th>0</th>\n",
       "      <td>1</td>\n",
       "      <td>Car</td>\n",
       "      <td>48.85</td>\n",
       "      <td>9.770344</td>\n",
       "      <td>37.977391</td>\n",
       "      <td>23.737688</td>\n",
       "      <td>4.9178</td>\n",
       "      <td>0.0518</td>\n",
       "      <td>-0.0299</td>\n",
       "      <td>0.0</td>\n",
       "    </tr>\n",
       "    <tr>\n",
       "      <th>1</th>\n",
       "      <td>2</td>\n",
       "      <td>Motorcycle</td>\n",
       "      <td>98.09</td>\n",
       "      <td>19.839417</td>\n",
       "      <td>37.977642</td>\n",
       "      <td>23.737400</td>\n",
       "      <td>16.9759</td>\n",
       "      <td>-0.0361</td>\n",
       "      <td>-0.0228</td>\n",
       "      <td>0.0</td>\n",
       "    </tr>\n",
       "    <tr>\n",
       "      <th>2</th>\n",
       "      <td>3</td>\n",
       "      <td>Motorcycle</td>\n",
       "      <td>63.80</td>\n",
       "      <td>18.228752</td>\n",
       "      <td>37.977997</td>\n",
       "      <td>23.737264</td>\n",
       "      <td>20.1906</td>\n",
       "      <td>-0.0795</td>\n",
       "      <td>-0.3395</td>\n",
       "      <td>0.0</td>\n",
       "    </tr>\n",
       "    <tr>\n",
       "      <th>3</th>\n",
       "      <td>4</td>\n",
       "      <td>Motorcycle</td>\n",
       "      <td>145.72</td>\n",
       "      <td>26.229014</td>\n",
       "      <td>37.978135</td>\n",
       "      <td>23.737072</td>\n",
       "      <td>2.7555</td>\n",
       "      <td>-0.0302</td>\n",
       "      <td>0.0948</td>\n",
       "      <td>0.0</td>\n",
       "    </tr>\n",
       "    <tr>\n",
       "      <th>4</th>\n",
       "      <td>5</td>\n",
       "      <td>Motorcycle</td>\n",
       "      <td>138.01</td>\n",
       "      <td>24.841425</td>\n",
       "      <td>37.978134</td>\n",
       "      <td>23.737103</td>\n",
       "      <td>0.0000</td>\n",
       "      <td>0.0000</td>\n",
       "      <td>0.0000</td>\n",
       "      <td>0.0</td>\n",
       "    </tr>\n",
       "    <tr>\n",
       "      <th>...</th>\n",
       "      <td>...</td>\n",
       "      <td>...</td>\n",
       "      <td>...</td>\n",
       "      <td>...</td>\n",
       "      <td>...</td>\n",
       "      <td>...</td>\n",
       "      <td>...</td>\n",
       "      <td>...</td>\n",
       "      <td>...</td>\n",
       "      <td>...</td>\n",
       "    </tr>\n",
       "    <tr>\n",
       "      <th>917</th>\n",
       "      <td>918</td>\n",
       "      <td>Car</td>\n",
       "      <td>78.83</td>\n",
       "      <td>30.846243</td>\n",
       "      <td>37.980629</td>\n",
       "      <td>23.735083</td>\n",
       "      <td>38.2160</td>\n",
       "      <td>0.0372</td>\n",
       "      <td>-0.0533</td>\n",
       "      <td>809.6</td>\n",
       "    </tr>\n",
       "    <tr>\n",
       "      <th>918</th>\n",
       "      <td>919</td>\n",
       "      <td>Motorcycle</td>\n",
       "      <td>19.50</td>\n",
       "      <td>9.234518</td>\n",
       "      <td>37.979327</td>\n",
       "      <td>23.735628</td>\n",
       "      <td>2.9344</td>\n",
       "      <td>0.0011</td>\n",
       "      <td>-0.0237</td>\n",
       "      <td>811.2</td>\n",
       "    </tr>\n",
       "    <tr>\n",
       "      <th>919</th>\n",
       "      <td>920</td>\n",
       "      <td>Car</td>\n",
       "      <td>48.97</td>\n",
       "      <td>24.486209</td>\n",
       "      <td>37.978413</td>\n",
       "      <td>23.735528</td>\n",
       "      <td>22.8316</td>\n",
       "      <td>-0.0250</td>\n",
       "      <td>-0.0808</td>\n",
       "      <td>811.6</td>\n",
       "    </tr>\n",
       "    <tr>\n",
       "      <th>920</th>\n",
       "      <td>921</td>\n",
       "      <td>Motorcycle</td>\n",
       "      <td>46.68</td>\n",
       "      <td>30.007124</td>\n",
       "      <td>37.980020</td>\n",
       "      <td>23.736861</td>\n",
       "      <td>32.3581</td>\n",
       "      <td>-0.0493</td>\n",
       "      <td>-0.1050</td>\n",
       "      <td>813.2</td>\n",
       "    </tr>\n",
       "    <tr>\n",
       "      <th>921</th>\n",
       "      <td>922</td>\n",
       "      <td>Car</td>\n",
       "      <td>35.00</td>\n",
       "      <td>23.335533</td>\n",
       "      <td>37.978428</td>\n",
       "      <td>23.735538</td>\n",
       "      <td>24.1909</td>\n",
       "      <td>-0.0077</td>\n",
       "      <td>-0.0660</td>\n",
       "      <td>813.4</td>\n",
       "    </tr>\n",
       "  </tbody>\n",
       "</table>\n",
       "<p>922 rows × 10 columns</p>\n",
       "</div>"
      ],
      "text/plain": [
       "     track_id         type   traveled_d   avg_speed        lat        lon  \\\n",
       "0           1          Car        48.85    9.770344  37.977391  23.737688   \n",
       "1           2   Motorcycle        98.09   19.839417  37.977642  23.737400   \n",
       "2           3   Motorcycle        63.80   18.228752  37.977997  23.737264   \n",
       "3           4   Motorcycle       145.72   26.229014  37.978135  23.737072   \n",
       "4           5   Motorcycle       138.01   24.841425  37.978134  23.737103   \n",
       "..        ...          ...          ...         ...        ...        ...   \n",
       "917       918          Car        78.83   30.846243  37.980629  23.735083   \n",
       "918       919   Motorcycle        19.50    9.234518  37.979327  23.735628   \n",
       "919       920          Car        48.97   24.486209  37.978413  23.735528   \n",
       "920       921   Motorcycle        46.68   30.007124  37.980020  23.736861   \n",
       "921       922          Car        35.00   23.335533  37.978428  23.735538   \n",
       "\n",
       "       speed   lon_acc   lat_acc   time  \n",
       "0     4.9178    0.0518   -0.0299    0.0  \n",
       "1    16.9759   -0.0361   -0.0228    0.0  \n",
       "2    20.1906   -0.0795   -0.3395    0.0  \n",
       "3     2.7555   -0.0302    0.0948    0.0  \n",
       "4     0.0000    0.0000    0.0000    0.0  \n",
       "..       ...       ...       ...    ...  \n",
       "917  38.2160    0.0372   -0.0533  809.6  \n",
       "918   2.9344    0.0011   -0.0237  811.2  \n",
       "919  22.8316   -0.0250   -0.0808  811.6  \n",
       "920  32.3581   -0.0493   -0.1050  813.2  \n",
       "921  24.1909   -0.0077   -0.0660  813.4  \n",
       "\n",
       "[922 rows x 10 columns]"
      ]
     },
     "execution_count": 3,
     "metadata": {},
     "output_type": "execute_result"
    }
   ],
   "source": [
    "data "
   ]
  },
  {
   "cell_type": "code",
   "execution_count": 4,
   "id": "bb19cd1d",
   "metadata": {},
   "outputs": [
    {
     "data": {
      "text/plain": [
       "(922, 10)"
      ]
     },
     "execution_count": 4,
     "metadata": {},
     "output_type": "execute_result"
    }
   ],
   "source": [
    "data.shape "
   ]
  },
  {
   "cell_type": "code",
   "execution_count": 5,
   "id": "604f3ab1",
   "metadata": {},
   "outputs": [
    {
     "name": "stdout",
     "output_type": "stream",
     "text": [
      "<class 'pandas.core.frame.DataFrame'>\n",
      "RangeIndex: 922 entries, 0 to 921\n",
      "Data columns (total 10 columns):\n",
      " #   Column       Non-Null Count  Dtype  \n",
      "---  ------       --------------  -----  \n",
      " 0   track_id     922 non-null    int64  \n",
      " 1    type        922 non-null    object \n",
      " 2    traveled_d  922 non-null    float64\n",
      " 3    avg_speed   922 non-null    float64\n",
      " 4    lat         922 non-null    float64\n",
      " 5    lon         922 non-null    float64\n",
      " 6    speed       922 non-null    float64\n",
      " 7    lon_acc     922 non-null    float64\n",
      " 8    lat_acc     922 non-null    float64\n",
      " 9    time        922 non-null    float64\n",
      "dtypes: float64(8), int64(1), object(1)\n",
      "memory usage: 72.2+ KB\n"
     ]
    }
   ],
   "source": [
    "data.info()"
   ]
  },
  {
   "cell_type": "code",
   "execution_count": 6,
   "id": "37eb594b",
   "metadata": {},
   "outputs": [
    {
     "data": {
      "text/plain": [
       "track_id       0\n",
       " type          0\n",
       " traveled_d    0\n",
       " avg_speed     0\n",
       " lat           0\n",
       " lon           0\n",
       " speed         0\n",
       " lon_acc       0\n",
       " lat_acc       0\n",
       " time          0\n",
       "dtype: int64"
      ]
     },
     "execution_count": 6,
     "metadata": {},
     "output_type": "execute_result"
    }
   ],
   "source": [
    "data.isna().sum()"
   ]
  },
  {
   "cell_type": "code",
   "execution_count": 7,
   "id": "f22ecdb5",
   "metadata": {},
   "outputs": [
    {
     "data": {
      "text/plain": [
       "track_id       922\n",
       " type            6\n",
       " traveled_d    889\n",
       " avg_speed     922\n",
       " lat           362\n",
       " lon           426\n",
       " speed         901\n",
       " lon_acc       778\n",
       " lat_acc       775\n",
       " time          719\n",
       "dtype: int64"
      ]
     },
     "execution_count": 7,
     "metadata": {},
     "output_type": "execute_result"
    }
   ],
   "source": [
    "data.nunique()"
   ]
  },
  {
   "cell_type": "code",
   "execution_count": 18,
   "id": "a63a4b75",
   "metadata": {},
   "outputs": [
    {
     "data": {
      "image/png": "[encoded data removed]",
      "text/plain": [
       "<Figure size 432x288 with 1 Axes>"
      ]
     },
     "metadata": {
      "needs_background": "light"
     },
     "output_type": "display_data"
    }
   ],
   "source": [
    "plt.figure(figsize=(10,8))\n",
    "sns.countplot(x=\" type\",data=data,f)"
   ]
  },
  {
   "cell_type": "code",
   "execution_count": 16,
   "id": "ec31a67c",
   "metadata": {},
   "outputs": [
    {
     "data": {
      "text/plain": [
       " Car               426\n",
       " Motorcycle        251\n",
       " Taxi              176\n",
       " Medium Vehicle     26\n",
       " Bus                23\n",
       " Heavy Vehicle      20\n",
       "Name:  type, dtype: int64"
      ]
     },
     "execution_count": 16,
     "metadata": {},
     "output_type": "execute_result"
    }
   ],
   "source": [
    "data[' type'].value_counts()"
   ]
  },
  {
   "cell_type": "code",
   "execution_count": 15,
   "id": "22410520",
   "metadata": {},
   "outputs": [
    {
     "data": {
      "text/plain": [
       "Index(['track_id', ' type', ' traveled_d', ' avg_speed', ' lat', ' lon',\n",
       "       ' speed', ' lon_acc', ' lat_acc', ' time'],\n",
       "      dtype='object')"
      ]
     },
     "execution_count": 15,
     "metadata": {},
     "output_type": "execute_result"
    }
   ],
   "source": [
    "data.columns"
   ]
  },
  {
   "cell_type": "code",
   "execution_count": null,
   "id": "45af7033",
   "metadata": {},
   "outputs": [],
   "source": []
  }
 ],
 "metadata": {
  "kernelspec": {
   "display_name": "Python 3",
   "language": "python",
   "name": "python3"
  },
  "language_info": {
   "codemirror_mode": {
    "name": "ipython",
    "version": 3
   },
   "file_extension": ".py",
   "mimetype": "text/x-python",
   "name": "python",
   "nbconvert_exporter": "python",
   "pygments_lexer": "ipython3",
   "version": "3.8.8"
  }
 },
 "nbformat": 4,
 "nbformat_minor": 5
}
